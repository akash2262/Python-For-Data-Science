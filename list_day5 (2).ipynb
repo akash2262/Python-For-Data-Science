{
  "nbformat": 4,
  "nbformat_minor": 0,
  "metadata": {
    "colab": {
      "name": "list day5",
      "provenance": []
    },
    "kernelspec": {
      "name": "python3",
      "display_name": "Python 3"
    },
    "language_info": {
      "name": "python"
    }
  },
  "cells": [
    {
      "cell_type": "code",
      "metadata": {
        "id": "a2e8lkZ8DxHG"
      },
      "source": [
        ""
      ],
      "execution_count": null,
      "outputs": []
    },
    {
      "cell_type": "markdown",
      "metadata": {
        "id": "rbWt6MhrDyTN"
      },
      "source": [
        "**list**\n",
        "list is modified and ordered,\n",
        "\n",
        "allows duplicate\n",
        "\n"
      ]
    },
    {
      "cell_type": "code",
      "metadata": {
        "id": "lyhL_vocD5uq"
      },
      "source": [
        "fruits_1=[\"banana\",\"apple\",\"orange\",\"pineapple\",\"mango\"]\n",
        "companies_1=[\"apple\",\"samsung\",\"dell\",\"hp\"]\n",
        "laptops_1=[\"corona\",\"mouse\",\"dell\"]"
      ],
      "execution_count": 4,
      "outputs": []
    },
    {
      "cell_type": "code",
      "metadata": {
        "colab": {
          "base_uri": "https://localhost:8080/"
        },
        "id": "g29N1H9dEEzX",
        "outputId": "38bcf9f6-97e6-43da-9a34-1bd6bb513c2f"
      },
      "source": [
        "print(\"name of the fruits\",fruits_1)\n",
        "print(\"number of fruits\",len(fruits_1))\n",
        "print(\"name of the companies\",companies_1)\n",
        "print(\"number of companies\",len(companies_1))\n",
        "print(\"name of the laptops\",laptops_1)\n",
        "print(\"number of laptops\",len(laptops_1))"
      ],
      "execution_count": 7,
      "outputs": [
        {
          "output_type": "stream",
          "text": [
            "name of the fruits ['banana', 'apple', 'orange', 'pineapple', 'mango']\n",
            "number of fruits 5\n",
            "name of the companies ['apple', 'samsung', 'dell', 'hp']\n",
            "number of companies 4\n",
            "name of the laptops ['corona', 'mouse', 'dell']\n",
            "number of laptops 3\n"
          ],
          "name": "stdout"
        }
      ]
    },
    {
      "cell_type": "markdown",
      "metadata": {
        "id": "q7BIdQI9LMNX"
      },
      "source": [
        "unpacking"
      ]
    },
    {
      "cell_type": "code",
      "metadata": {
        "colab": {
          "base_uri": "https://localhost:8080/"
        },
        "id": "NqT8nVVXFuNQ",
        "outputId": "99664531-5b25-4f56-b212-1657e5b226b1"
      },
      "source": [
        "fruits_1[3],companies_1[2],laptops_1[1]"
      ],
      "execution_count": 12,
      "outputs": [
        {
          "output_type": "execute_result",
          "data": {
            "text/plain": [
              "('pineapple', 'dell', 'mouse')"
            ]
          },
          "metadata": {
            "tags": []
          },
          "execution_count": 12
        }
      ]
    },
    {
      "cell_type": "code",
      "metadata": {
        "id": "8HGZ7DEOGaCK"
      },
      "source": [
        "first_item,second_item,_third_item,*rest=fruits_1"
      ],
      "execution_count": 13,
      "outputs": []
    },
    {
      "cell_type": "code",
      "metadata": {
        "colab": {
          "base_uri": "https://localhost:8080/"
        },
        "id": "VjkW-B5IHGG1",
        "outputId": "061d409a-d33e-4a7f-b90b-ff2f3c73a8e3"
      },
      "source": [
        "print(first_item)"
      ],
      "execution_count": 14,
      "outputs": [
        {
          "output_type": "stream",
          "text": [
            "banana\n"
          ],
          "name": "stdout"
        }
      ]
    },
    {
      "cell_type": "code",
      "metadata": {
        "colab": {
          "base_uri": "https://localhost:8080/"
        },
        "id": "P_1Z06k-HLNd",
        "outputId": "820c693f-3cfa-42ad-ea3e-28d9beb428a5"
      },
      "source": [
        "print(rest)"
      ],
      "execution_count": 15,
      "outputs": [
        {
          "output_type": "stream",
          "text": [
            "['pineapple', 'mango']\n"
          ],
          "name": "stdout"
        }
      ]
    },
    {
      "cell_type": "code",
      "metadata": {
        "id": "rJcdfVlkHPOG"
      },
      "source": [
        ""
      ],
      "execution_count": null,
      "outputs": []
    },
    {
      "cell_type": "markdown",
      "metadata": {
        "id": "jV7-WWoiJlV5"
      },
      "source": [
        "slicing"
      ]
    },
    {
      "cell_type": "code",
      "metadata": {
        "id": "aBKG9Yk5JuAx"
      },
      "source": [
        "slicing_fruits=[\"banana\",\"apple\",\"orange\",\"pineapple\",\"mango\"]\n",
        "first_4=slicing_fruits[0:5]\n",
        "every_2=slicing_fruits[-3:]"
      ],
      "execution_count": 33,
      "outputs": []
    },
    {
      "cell_type": "code",
      "metadata": {
        "colab": {
          "base_uri": "https://localhost:8080/"
        },
        "id": "M96eyLzJKFr4",
        "outputId": "aa6fa111-5f57-46df-e216-b5ff1a8d6aaa"
      },
      "source": [
        "print(every_2)\n"
      ],
      "execution_count": 34,
      "outputs": [
        {
          "output_type": "stream",
          "text": [
            "['orange', 'pineapple', 'mango']\n"
          ],
          "name": "stdout"
        }
      ]
    },
    {
      "cell_type": "markdown",
      "metadata": {
        "id": "Baq7DUmvL9_b"
      },
      "source": [
        "modifing"
      ]
    },
    {
      "cell_type": "code",
      "metadata": {
        "id": "RjpBOVHxKs9Q"
      },
      "source": [
        "slicing_fruits[1]=\"firstfruit\"\n",
        "slicing_fruits[4]=\"notmango\""
      ],
      "execution_count": 37,
      "outputs": []
    },
    {
      "cell_type": "code",
      "metadata": {
        "colab": {
          "base_uri": "https://localhost:8080/"
        },
        "id": "yfOoI3H4Lss1",
        "outputId": "c4e39a6d-3ebc-4520-bc88-c4cfed986d98"
      },
      "source": [
        "print(slicing_fruits)"
      ],
      "execution_count": 38,
      "outputs": [
        {
          "output_type": "stream",
          "text": [
            "['banana', 'firstfruit', 'orange', 'pineapple', 'notmango']\n"
          ],
          "name": "stdout"
        }
      ]
    },
    {
      "cell_type": "markdown",
      "metadata": {
        "id": "2-O9X_M3MMf8"
      },
      "source": [
        "checking"
      ]
    },
    {
      "cell_type": "code",
      "metadata": {
        "id": "6IJiEQG7L6MJ"
      },
      "source": [
        "does_exist=\"sumith\" in slicing_fruits"
      ],
      "execution_count": 41,
      "outputs": []
    },
    {
      "cell_type": "code",
      "metadata": {
        "colab": {
          "base_uri": "https://localhost:8080/"
        },
        "id": "GR-MXu83Me8_",
        "outputId": "ae49af85-b300-44e2-a282-8205bcd6bd4c"
      },
      "source": [
        "print(does_exist)"
      ],
      "execution_count": 42,
      "outputs": [
        {
          "output_type": "stream",
          "text": [
            "False\n"
          ],
          "name": "stdout"
        }
      ]
    },
    {
      "cell_type": "code",
      "metadata": {
        "id": "w_SB2C0bMiCE"
      },
      "source": [
        ""
      ],
      "execution_count": null,
      "outputs": []
    },
    {
      "cell_type": "markdown",
      "metadata": {
        "id": "gbM9NWUTMzwR"
      },
      "source": [
        "adding"
      ]
    },
    {
      "cell_type": "code",
      "metadata": {
        "id": "WEd8t1l0M3Ib"
      },
      "source": [
        "slicing_fruits.append(\"vijay\")"
      ],
      "execution_count": 44,
      "outputs": []
    },
    {
      "cell_type": "code",
      "metadata": {
        "colab": {
          "base_uri": "https://localhost:8080/"
        },
        "id": "OB5PutaHNPNh",
        "outputId": "395ee5bb-82a4-4dd6-8c95-e72f89bdb9ab"
      },
      "source": [
        "print(slicing_fruits)"
      ],
      "execution_count": 49,
      "outputs": [
        {
          "output_type": "stream",
          "text": [
            "['firstfruit', 'orange', 'thirdfruit', 'thirdfruit', 'pineapple', 'notmango', 'vijay']\n"
          ],
          "name": "stdout"
        }
      ]
    },
    {
      "cell_type": "code",
      "metadata": {
        "id": "VVBOeI5QNe4h"
      },
      "source": [
        "\n"
      ],
      "execution_count": 92,
      "outputs": []
    },
    {
      "cell_type": "markdown",
      "metadata": {
        "id": "uvbbpVOsNgns"
      },
      "source": [
        "inserting"
      ]
    },
    {
      "cell_type": "code",
      "metadata": {
        "id": "GGpoUBcSNjOf"
      },
      "source": [
        "slicing_fruits.insert(3,\"thirdfruit\")"
      ],
      "execution_count": 48,
      "outputs": []
    },
    {
      "cell_type": "code",
      "metadata": {
        "colab": {
          "base_uri": "https://localhost:8080/",
          "height": 36
        },
        "id": "JODS_flJN5y_",
        "outputId": "b7dce6c5-ccc5-47bc-9858-23e8571f8b38"
      },
      "source": [
        "slicing_fruits.pop(4)"
      ],
      "execution_count": 52,
      "outputs": [
        {
          "output_type": "execute_result",
          "data": {
            "application/vnd.google.colaboratory.intrinsic+json": {
              "type": "string"
            },
            "text/plain": [
              "'notmango'"
            ]
          },
          "metadata": {
            "tags": []
          },
          "execution_count": 52
        }
      ]
    },
    {
      "cell_type": "code",
      "metadata": {
        "colab": {
          "base_uri": "https://localhost:8080/"
        },
        "id": "8MK1G6MSRIcn",
        "outputId": "6b30828e-4d9d-46b1-df9d-51ecadf4dd9a"
      },
      "source": [
        "print(slicing_fruits)"
      ],
      "execution_count": 60,
      "outputs": [
        {
          "output_type": "stream",
          "text": [
            "[]\n"
          ],
          "name": "stdout"
        }
      ]
    },
    {
      "cell_type": "markdown",
      "metadata": {
        "id": "_X_Of3hzYsno"
      },
      "source": [
        "copy"
      ]
    },
    {
      "cell_type": "code",
      "metadata": {
        "id": "emTDZMvnRMoq"
      },
      "source": [
        "fruits=[\"banana\",\"apple\",\"orange\",\"pineapple\",\"mango\"]\n"
      ],
      "execution_count": 76,
      "outputs": []
    },
    {
      "cell_type": "code",
      "metadata": {
        "id": "dx6JCIQSTBhT"
      },
      "source": [
        "fruits_copy=fruits.copy()"
      ],
      "execution_count": 66,
      "outputs": []
    },
    {
      "cell_type": "markdown",
      "metadata": {
        "id": "59Lnz6MvYwaG"
      },
      "source": [
        "joining"
      ]
    },
    {
      "cell_type": "code",
      "metadata": {
        "id": "E7Bu3g6ETFkk"
      },
      "source": [
        "numbers=[1,2,3,3,4,4,5]"
      ],
      "execution_count": 72,
      "outputs": []
    },
    {
      "cell_type": "code",
      "metadata": {
        "id": "puAlj8dWTa1p"
      },
      "source": [
        "zero=[-1,-2,-3,4]"
      ],
      "execution_count": 73,
      "outputs": []
    },
    {
      "cell_type": "code",
      "metadata": {
        "id": "B5BIIuT9TfD1"
      },
      "source": [
        "all_assamble=numbers+zero"
      ],
      "execution_count": 74,
      "outputs": []
    },
    {
      "cell_type": "code",
      "metadata": {
        "colab": {
          "base_uri": "https://localhost:8080/"
        },
        "id": "Jq2e8R-oTnFv",
        "outputId": "d7780a63-99d4-43a8-e04f-99dd4acee7b2"
      },
      "source": [
        "print(all_assamble)"
      ],
      "execution_count": 75,
      "outputs": [
        {
          "output_type": "stream",
          "text": [
            "[1, 2, 3, 3, 4, 4, 5, -1, -2, -3, 4]\n"
          ],
          "name": "stdout"
        }
      ]
    },
    {
      "cell_type": "markdown",
      "metadata": {
        "id": "1tTKaMn2Y0DE"
      },
      "source": [
        "sort"
      ]
    },
    {
      "cell_type": "code",
      "metadata": {
        "id": "tYTcns5DUAEw"
      },
      "source": [
        "fruits_11=fruits.sort()"
      ],
      "execution_count": 78,
      "outputs": []
    },
    {
      "cell_type": "code",
      "metadata": {
        "colab": {
          "base_uri": "https://localhost:8080/"
        },
        "id": "rTezdSVOUrtY",
        "outputId": "967d1bc0-94dc-47b3-daf2-4f0934a8ceb3"
      },
      "source": [
        "print(fruits_11)"
      ],
      "execution_count": 79,
      "outputs": [
        {
          "output_type": "stream",
          "text": [
            "None\n"
          ],
          "name": "stdout"
        }
      ]
    },
    {
      "cell_type": "code",
      "metadata": {
        "id": "2l7yPegqUy_F"
      },
      "source": [
        "sorting_1=[\"banana\",\"apple\",\"orange\",\"pineapple\",\"mango\"]"
      ],
      "execution_count": 80,
      "outputs": []
    },
    {
      "cell_type": "code",
      "metadata": {
        "id": "XgGQsvUMU93Y"
      },
      "source": [
        "sorting_1.sort(reverse=True)"
      ],
      "execution_count": 86,
      "outputs": []
    },
    {
      "cell_type": "code",
      "metadata": {
        "colab": {
          "base_uri": "https://localhost:8080/"
        },
        "id": "h8lgekkiVCbF",
        "outputId": "4dd10101-d70c-4f98-9ab4-17f33e009e73"
      },
      "source": [
        "print(sorting_1)"
      ],
      "execution_count": 87,
      "outputs": [
        {
          "output_type": "stream",
          "text": [
            "['pineapple', 'orange', 'mango', 'banana', 'apple']\n"
          ],
          "name": "stdout"
        }
      ]
    },
    {
      "cell_type": "code",
      "metadata": {
        "colab": {
          "base_uri": "https://localhost:8080/"
        },
        "id": "8ar2KKE4VLFP",
        "outputId": "7f5f8b15-ecdf-4e1b-d5fc-cdd07cc72b7c"
      },
      "source": [
        "print(sorted(sorting_1))"
      ],
      "execution_count": 83,
      "outputs": [
        {
          "output_type": "stream",
          "text": [
            "['apple', 'banana', 'mango', 'orange', 'pineapple']\n"
          ],
          "name": "stdout"
        }
      ]
    },
    {
      "cell_type": "markdown",
      "metadata": {
        "id": "cbBqkw6tYa08"
      },
      "source": [
        "method"
      ]
    },
    {
      "cell_type": "code",
      "metadata": {
        "id": "jLsY4zIyVgdm"
      },
      "source": [
        "fruits=[\"banana\",\"apple\",\"orange\",\"pineapple\",\"mango\"]\n",
        "#remove\n",
        "fruits.remove(\"banana\")\n",
        "#remove with popwith index or remove last \n",
        "fruits.pop(1)\n",
        "#insert\n",
        "fruits.insert(1,\"all\")\n",
        "#adding only one \n",
        "fruits.append(\"sumith\")\n",
        "#copy\n",
        "fruits_19=fruits.copy()\n",
        "#joining\n",
        "all_fruits=fruits+fruits_19\n",
        "#sorting\n",
        "all_fruits.sort()\n",
        "#clear all \n",
        "fruits.clear()"
      ],
      "execution_count": 92,
      "outputs": []
    },
    {
      "cell_type": "code",
      "metadata": {
        "colab": {
          "base_uri": "https://localhost:8080/"
        },
        "id": "9LosgfrTXpA8",
        "outputId": "5624a15c-e3e8-4d2e-d54f-b68c2486b612"
      },
      "source": [
        "print(fruits)"
      ],
      "execution_count": 91,
      "outputs": [
        {
          "output_type": "stream",
          "text": [
            "['apple', 'all', 'pineapple', 'mango', 'sumith']\n"
          ],
          "name": "stdout"
        }
      ]
    },
    {
      "cell_type": "code",
      "metadata": {
        "id": "3HusxwyWYOyN"
      },
      "source": [
        ""
      ],
      "execution_count": null,
      "outputs": []
    }
  ]
}